{
  "cells": [
    {
      "cell_type": "markdown",
      "metadata": {
        "id": "view-in-github",
        "colab_type": "text"
      },
      "source": [
        "<a href=\"https://colab.research.google.com/github/mlvlab/KCCV2022-tutorial/blob/main/02_Human_Object_Interaction_Detection_tutorial.ipynb\" target=\"_parent\"><img src=\"https://colab.research.google.com/assets/colab-badge.svg\" alt=\"Open In Colab\"/></a>"
      ]
    },
    {
      "cell_type": "markdown",
      "source": [
        "[![Open In Colab](https://colab.research.google.com/assets/colab-badge.svg)](https://colab.research.google.com/github/mlvlab/KCCV2022-tutorial/blob/main/|02_Human_Object_Interaction_Detection_tutorial.ipynb)"
      ],
      "metadata": {
        "id": "KQOA2sAUax24"
      }
    },
    {
      "cell_type": "markdown",
      "source": [
        "# Human-Object Interaction Detection with HOTR\n",
        "\n",
        "## 실습 내용\n",
        "\n",
        "\n",
        "1.   HO Pointer 구현\n",
        "2.   Visualization "
      ],
      "metadata": {
        "id": "EUK3EwHLd4g8"
      }
    },
    {
      "cell_type": "code",
      "execution_count": null,
      "metadata": {
        "colab": {
          "base_uri": "https://localhost:8080/"
        },
        "id": "xGORPxWa2PpL",
        "outputId": "7921052e-3db0-46ae-b848-3a01782816a2"
      },
      "outputs": [
        {
          "output_type": "stream",
          "name": "stdout",
          "text": [
            "Mounted at /content/drive\n"
          ]
        }
      ],
      "source": [
        "from google.colab import drive\n",
        "drive.mount('/content/drive')"
      ]
    },
    {
      "cell_type": "code",
      "source": [
        "%cd drive/MyDrive/\n",
        "!git clone https://github.com/jihwanp/HOTR_-.git"
      ],
      "metadata": {
        "colab": {
          "base_uri": "https://localhost:8080/"
        },
        "id": "fw-vpl73QGob",
        "outputId": "8b3e0c72-fd6b-42b0-9961-f0b114c17ee2"
      },
      "execution_count": null,
      "outputs": [
        {
          "output_type": "stream",
          "name": "stdout",
          "text": [
            "/content/drive/MyDrive\n",
            "Cloning into 'HOTR_-'...\n",
            "remote: Enumerating objects: 193, done.\u001b[K\n",
            "remote: Counting objects: 100% (193/193), done.\u001b[K\n",
            "remote: Compressing objects: 100% (111/111), done.\u001b[K\n",
            "remote: Total 193 (delta 82), reused 175 (delta 76), pack-reused 0\u001b[K\n",
            "Receiving objects: 100% (193/193), 25.34 MiB | 9.76 MiB/s, done.\n",
            "Resolving deltas: 100% (82/82), done.\n",
            "Checking out files: 100% (54/54), done.\n"
          ]
        }
      ]
    },
    {
      "cell_type": "code",
      "source": [
        "!pip install wandb\n",
        "!pip install mmcv"
      ],
      "metadata": {
        "colab": {
          "base_uri": "https://localhost:8080/"
        },
        "id": "-YZXvpI9RN4P",
        "outputId": "b44568c6-34e4-463e-fa59-1c74c394bbcc"
      },
      "execution_count": null,
      "outputs": [
        {
          "output_type": "stream",
          "name": "stdout",
          "text": [
            "Collecting wandb\n",
            "  Downloading wandb-0.12.10-py2.py3-none-any.whl (1.7 MB)\n",
            "\u001b[K     |████████████████████████████████| 1.7 MB 4.3 MB/s \n",
            "\u001b[?25hRequirement already satisfied: Click!=8.0.0,>=7.0 in /usr/local/lib/python3.7/dist-packages (from wandb) (7.1.2)\n",
            "Requirement already satisfied: requests<3,>=2.0.0 in /usr/local/lib/python3.7/dist-packages (from wandb) (2.23.0)\n",
            "Requirement already satisfied: python-dateutil>=2.6.1 in /usr/local/lib/python3.7/dist-packages (from wandb) (2.8.2)\n",
            "Collecting shortuuid>=0.5.0\n",
            "  Downloading shortuuid-1.0.8-py3-none-any.whl (9.5 kB)\n",
            "Collecting GitPython>=1.0.0\n",
            "  Downloading GitPython-3.1.27-py3-none-any.whl (181 kB)\n",
            "\u001b[K     |████████████████████████████████| 181 kB 44.2 MB/s \n",
            "\u001b[?25hCollecting sentry-sdk>=1.0.0\n",
            "  Downloading sentry_sdk-1.5.6-py2.py3-none-any.whl (144 kB)\n",
            "\u001b[K     |████████████████████████████████| 144 kB 39.2 MB/s \n",
            "\u001b[?25hRequirement already satisfied: protobuf>=3.12.0 in /usr/local/lib/python3.7/dist-packages (from wandb) (3.17.3)\n",
            "Collecting docker-pycreds>=0.4.0\n",
            "  Downloading docker_pycreds-0.4.0-py2.py3-none-any.whl (9.0 kB)\n",
            "Requirement already satisfied: promise<3,>=2.0 in /usr/local/lib/python3.7/dist-packages (from wandb) (2.3)\n",
            "Requirement already satisfied: PyYAML in /usr/local/lib/python3.7/dist-packages (from wandb) (3.13)\n",
            "Collecting pathtools\n",
            "  Downloading pathtools-0.1.2.tar.gz (11 kB)\n",
            "Collecting yaspin>=1.0.0\n",
            "  Downloading yaspin-2.1.0-py3-none-any.whl (18 kB)\n",
            "Requirement already satisfied: psutil>=5.0.0 in /usr/local/lib/python3.7/dist-packages (from wandb) (5.4.8)\n",
            "Requirement already satisfied: six>=1.13.0 in /usr/local/lib/python3.7/dist-packages (from wandb) (1.15.0)\n",
            "Collecting gitdb<5,>=4.0.1\n",
            "  Downloading gitdb-4.0.9-py3-none-any.whl (63 kB)\n",
            "\u001b[K     |████████████████████████████████| 63 kB 1.7 MB/s \n",
            "\u001b[?25hRequirement already satisfied: typing-extensions>=3.7.4.3 in /usr/local/lib/python3.7/dist-packages (from GitPython>=1.0.0->wandb) (3.10.0.2)\n",
            "Collecting smmap<6,>=3.0.1\n",
            "  Downloading smmap-5.0.0-py3-none-any.whl (24 kB)\n",
            "Requirement already satisfied: idna<3,>=2.5 in /usr/local/lib/python3.7/dist-packages (from requests<3,>=2.0.0->wandb) (2.10)\n",
            "Requirement already satisfied: certifi>=2017.4.17 in /usr/local/lib/python3.7/dist-packages (from requests<3,>=2.0.0->wandb) (2021.10.8)\n",
            "Requirement already satisfied: chardet<4,>=3.0.2 in /usr/local/lib/python3.7/dist-packages (from requests<3,>=2.0.0->wandb) (3.0.4)\n",
            "Requirement already satisfied: urllib3!=1.25.0,!=1.25.1,<1.26,>=1.21.1 in /usr/local/lib/python3.7/dist-packages (from requests<3,>=2.0.0->wandb) (1.24.3)\n",
            "Requirement already satisfied: termcolor<2.0.0,>=1.1.0 in /usr/local/lib/python3.7/dist-packages (from yaspin>=1.0.0->wandb) (1.1.0)\n",
            "Building wheels for collected packages: pathtools\n",
            "  Building wheel for pathtools (setup.py) ... \u001b[?25l\u001b[?25hdone\n",
            "  Created wheel for pathtools: filename=pathtools-0.1.2-py3-none-any.whl size=8806 sha256=c4d0e23fee7647678a3ee41cf91e85aba052e2fab0435d31a9bba1a554ec70f8\n",
            "  Stored in directory: /root/.cache/pip/wheels/3e/31/09/fa59cef12cdcfecc627b3d24273699f390e71828921b2cbba2\n",
            "Successfully built pathtools\n",
            "Installing collected packages: smmap, gitdb, yaspin, shortuuid, sentry-sdk, pathtools, GitPython, docker-pycreds, wandb\n",
            "Successfully installed GitPython-3.1.27 docker-pycreds-0.4.0 gitdb-4.0.9 pathtools-0.1.2 sentry-sdk-1.5.6 shortuuid-1.0.8 smmap-5.0.0 wandb-0.12.10 yaspin-2.1.0\n",
            "Collecting mmcv\n",
            "  Downloading mmcv-1.4.5.tar.gz (420 kB)\n",
            "\u001b[K     |████████████████████████████████| 420 kB 4.3 MB/s \n",
            "\u001b[?25hCollecting addict\n",
            "  Downloading addict-2.4.0-py3-none-any.whl (3.8 kB)\n",
            "Requirement already satisfied: numpy in /usr/local/lib/python3.7/dist-packages (from mmcv) (1.21.5)\n",
            "Requirement already satisfied: packaging in /usr/local/lib/python3.7/dist-packages (from mmcv) (21.3)\n",
            "Requirement already satisfied: Pillow in /usr/local/lib/python3.7/dist-packages (from mmcv) (7.1.2)\n",
            "Requirement already satisfied: pyyaml in /usr/local/lib/python3.7/dist-packages (from mmcv) (3.13)\n",
            "Collecting yapf\n",
            "  Downloading yapf-0.32.0-py2.py3-none-any.whl (190 kB)\n",
            "\u001b[K     |████████████████████████████████| 190 kB 46.6 MB/s \n",
            "\u001b[?25hRequirement already satisfied: pyparsing!=3.0.5,>=2.0.2 in /usr/local/lib/python3.7/dist-packages (from packaging->mmcv) (3.0.7)\n",
            "Building wheels for collected packages: mmcv\n",
            "  Building wheel for mmcv (setup.py) ... \u001b[?25l\u001b[?25hdone\n",
            "  Created wheel for mmcv: filename=mmcv-1.4.5-py2.py3-none-any.whl size=627495 sha256=f53ce53f0542713fd3e0e6c0841753e7e0b3a4b37224efec0ab47146840d5fde\n",
            "  Stored in directory: /root/.cache/pip/wheels/5b/79/26/96dfa214aed0504e9df1569a53474cf505075d5510343f38cf\n",
            "Successfully built mmcv\n",
            "Installing collected packages: yapf, addict, mmcv\n",
            "Successfully installed addict-2.4.0 mmcv-1.4.5 yapf-0.32.0\n"
          ]
        }
      ]
    },
    {
      "cell_type": "markdown",
      "source": [
        "## Download pretrained Checkpoint "
      ],
      "metadata": {
        "id": "4jeW2HCd77Mg"
      }
    },
    {
      "cell_type": "code",
      "source": [
        "%cd HOTR_-\n",
        "import os\n",
        "if not os.path.exists('./checkpoints/vcoco/'):\n",
        "    os.makedirs('./checkpoints/vcoco/')\n",
        "# v-coco\n",
        "!wget -nc https://arena.kakaocdn.net/brainrepo/hotr/vcoco_q16.pth -P ./checkpoints/vcoco/\n",
        "\n",
        "# if not os.path.exists('./checkpoints/hico-det/'):\n",
        "#     os.makedirs('./checkpoints/hico-det/')\n",
        "# # hico-det\n",
        "# !wget -nc https://arena.kakaocdn.net/brainrepo/hotr/hico_ft_q16.pth -P ./checkpoints/hico-det/"
      ],
      "metadata": {
        "colab": {
          "base_uri": "https://localhost:8080/"
        },
        "id": "xzklyp1OQU5q",
        "outputId": "5935067a-3edb-4630-8236-75493553781e"
      },
      "execution_count": null,
      "outputs": [
        {
          "output_type": "stream",
          "name": "stdout",
          "text": [
            "/content/drive/MyDrive/HOTR_-\n",
            "--2022-02-22 16:26:43--  https://arena.kakaocdn.net/brainrepo/hotr/vcoco_q16.pth\n",
            "Resolving arena.kakaocdn.net (arena.kakaocdn.net)... 203.217.239.86\n",
            "Connecting to arena.kakaocdn.net (arena.kakaocdn.net)|203.217.239.86|:443... connected.\n",
            "HTTP request sent, awaiting response... 200 OK\n",
            "Length: 285415416 (272M) [application/zip]\n",
            "Saving to: ‘./checkpoints/vcoco/vcoco_q16.pth’\n",
            "\n",
            "vcoco_q16.pth       100%[===================>] 272.19M  17.8MB/s    in 14s     \n",
            "\n",
            "2022-02-22 16:26:57 (19.6 MB/s) - ‘./checkpoints/vcoco/vcoco_q16.pth’ saved [285415416/285415416]\n",
            "\n"
          ]
        }
      ]
    },
    {
      "cell_type": "markdown",
      "source": [
        "## HO Pointer 구현 실습\n",
        "\n",
        "![hopointer](https://drive.google.com/uc?id=1HO8tDMAhcVq8bIDg5M5F6cnHLnEqz4L_)\n",
        "\n",
        "Formulation for HO Pointer\n",
        "\n",
        "---\n",
        "\n",
        "- $\\{z_i\\}_{i=1}^N$ : interaction representation (N: number of interaction token)\n",
        "- $\\{\\bar{v}_i^{\\{h,o\\}}\\}_{i=1}^N $ : normalized interaction representation with projection layer $(= \\text{norm}(FFN_{\\{h,o\\}}(z_i)))$\n",
        "\n",
        "- $\\{\\mu_j^{'}\\}_{j=1}^K$ : normalized instance representation (K: number of instance token)\n",
        "- indices of the **instance representations** with the highest similarity scores ($\\text{sim}$ : dot-product.)\n",
        "\n",
        "     $$\\hat{c}_i^h=\\arg\\max_j(\\color{red}{\\text{sim}(\\bar{v}_i^h,\\mu^{'}_j)/\\tau}) \\\\\\ \\hat{c}_i^o=\\arg\\max_j(\\color{red}{\\text{sim}(\\bar{v}_i^o,\\mu^{'}_j)/\\tau})$$\n",
        "  \n",
        "\n",
        "Variables related to HO Pointer\n",
        "\n",
        "---\n",
        "\n",
        "- $FFN_h$ : `FFN_H`\n",
        "- $FFN_o$ : `FFN_O`\n",
        "- $\\{\\mu_j^{'}\\}^K_{j=1}$ : `Mu` (dim: batch_size x K x d)\n",
        "- $\\{z_i\\}_{i=1}^N$ : `Z` (dim: layer x batch_size x N x d)\n",
        "- $\\tau$ : `tau` (default: 0.05)\n",
        "- $\\{\\bar{v}_i^{h}\\}_{i=1}^N$ : `VHs`\n",
        "- $\\{\\bar{v}_i^{o}\\}_{i=1}^N$ : `VOs`\n",
        "\n",
        "\n",
        "Tips for code (To Do)\n",
        "\n",
        "---\n",
        "\n",
        "- similarity score를 구할때 사용하는 representation에 대한 L2 normalize를 해주기 위해 `torch.nn.functional.normalize`를 사용함. (`inst_repr`줄 참고)\n",
        "- `inst_repr`는 instance decoder의 마지막 layer output embedding을 이용함. \n",
        "- 같은 batch안에서 나온 instance representation과 interaction represenation간의 pair-wise similarity를 구하기 위해 `torch.bmm`사용\n",
        "\n",
        "  *   `torch.bmm`은 두개의 matrix를 input으로 넣어주며 각각 $(b\\times n\\times m)$, $(b\\times m\\times p)$의 shape에 맞춰줘야함. 이때문에 interaction representation을 layer마다 나눠서 `torch.bmm`을 사용하여야함.\n",
        "  *   `tau`를 이용하여 score smoothness 컨트롤\n",
        "\n",
        "- outputs_hidx,outputs_oidx는 list형식\n",
        "\n",
        "\n",
        "\n",
        "\n"
      ],
      "metadata": {
        "id": "sH7LKmP1e-gE"
      }
    },
    {
      "cell_type": "code",
      "source": [
        "# ------------------------------------------------------------------------\n",
        "# HOTR official code : hotr/models/detr.py\n",
        "# Copyright (c) Kakao Brain, Inc. and its affiliates. All Rights Reserved\n",
        "# ------------------------------------------------------------------------\n",
        "# Modified from DETR (https://github.com/facebookresearch/detr)\n",
        "# Copyright (c) Facebook, Inc. and its affiliates. All Rights Reserved\n",
        "# ------------------------------------------------------------------------\n",
        "\"\"\"\n",
        "DETR & HOTR model and criterion classes.\n",
        "\"\"\"\n",
        "import torch\n",
        "import torch.nn.functional as F\n",
        "from torch import nn\n",
        "\n",
        "from hotr.util.misc import (NestedTensor, nested_tensor_from_tensor_list)\n",
        "\n",
        "from hotr.models.backbone import build_backbone\n",
        "from hotr.models.detr_matcher import build_matcher\n",
        "from hotr.models.hotr_matcher import build_hoi_matcher\n",
        "from hotr.models.transformer import build_transformer, build_hoi_transformer\n",
        "from hotr.models.criterion import SetCriterion\n",
        "from hotr.models.post_process import PostProcess\n",
        "from hotr.models.feed_forward import MLP\n",
        "from hotr.models.hotr import HOTR as hotr\n",
        "from hotr.models.detr import DETR\n",
        "\n",
        "class HOTR(hotr):\n",
        "    def __init__(self, detr,\n",
        "                 num_hoi_queries,\n",
        "                 num_actions,\n",
        "                 interaction_transformer,\n",
        "                 freeze_detr,\n",
        "                 share_enc,\n",
        "                 pretrained_dec,\n",
        "                 temperature,\n",
        "                 hoi_aux_loss,\n",
        "                 return_obj_class=None):\n",
        "        super().__init__(detr,\n",
        "                 num_hoi_queries,\n",
        "                 num_actions,\n",
        "                 interaction_transformer,\n",
        "                 freeze_detr,\n",
        "                 share_enc,\n",
        "                 pretrained_dec,\n",
        "                 temperature,\n",
        "                 hoi_aux_loss,\n",
        "                 return_obj_class)\n",
        "        hidden_dim=detr.transformer.d_model\n",
        "        self.H_Pointer_embed   = MLP(hidden_dim, hidden_dim, hidden_dim, 3)\n",
        "        self.O_Pointer_embed   = MLP(hidden_dim, hidden_dim, hidden_dim, 3)\n",
        "        self.tau = temperature\n",
        "        \n",
        "    def forward(self, samples: NestedTensor):\n",
        "        if isinstance(samples, (list, torch.Tensor)):\n",
        "            samples = nested_tensor_from_tensor_list(samples)\n",
        "        \n",
        "        # >>>>>>>>>>>>  BACKBONE LAYERS  <<<<<<<<<<<<<<<\n",
        "        features, pos = self.detr.backbone(samples)\n",
        "        bs = features[-1].tensors.shape[0]\n",
        "        src, mask = features[-1].decompose()\n",
        "        assert mask is not None\n",
        "        # ----------------------------------------------\n",
        "\n",
        "        # >>>>>>>>>>>> OBJECT DETECTION LAYERS <<<<<<<<<<\n",
        "        start_time = time.time()\n",
        "        hs, _ = self.detr.transformer(self.detr.input_proj(src), mask, self.detr.query_embed.weight, pos[-1])\n",
        "        inst_repr = F.normalize(hs[-1], p=2, dim=2) # instance representations\n",
        "\n",
        "        # Prediction Heads for Object Detection\n",
        "        outputs_class = self.detr.class_embed(hs)\n",
        "        outputs_coord = self.detr.bbox_embed(hs).sigmoid()\n",
        "        object_detection_time = time.time() - start_time\n",
        "        # -----------------------------------------------\n",
        "\n",
        "        # >>>>>>>>>>>> HOI DETECTION LAYERS <<<<<<<<<<<<<<<\n",
        "        start_time = time.time()\n",
        "        assert hasattr(self, 'interaction_transformer'), \"Missing Interaction Transformer.\"\n",
        "        interaction_hs = self.interaction_transformer(self.detr.input_proj(src), mask, self.query_embed.weight, pos[-1])[0] # interaction representations\n",
        "    \n",
        "        ## Variables for HO Pointer\n",
        "        FFN_H = self.H_Pointer_embed # output dim: R^d -> R^d\n",
        "        FFN_O = self.O_Pointer_embed # output dim: R^d -> R^d\n",
        "        Z = interaction_hs # layer x batch_size x N x d\n",
        "        Mu = inst_repr # batch_size x K x d\n",
        "        ##\n",
        "\n",
        "        # #[HO Pointers]\n",
        "        #-------------------------------------To Do-------------------------------------\n",
        "        # **{functionality description}** 을 채워주세요. \n",
        "        VHs = **normalize function**(**human_ffn**(**interaction representation**), p=2, dim=-1) #interaction decoder의 output을 projection시킨후 normalize (output dim: layer x batch_size x N x d)\n",
        "        VOs = **normalize function**(**object_ffn**(**interaction representation**), p=2, dim=-1) #interaction decoder의 output을 projection시킨후 normalize (output dim: layer x batch_size x N x d)\n",
        "        outputs_hidx = [(**batch matmul function**(**H Pointer representation at each layer**, **instance representation**)) / **temperature** for **H Pointer representation at each layer** in VHs] #Human representation 과 instance representation간의 logit matrix를 계산 (output dim: layer x batch_size x N x K)\n",
        "        outputs_oidx = [(**batch matmul function**(**O Pointer representation at each layer**, **instance representation**)) / **temperature** for **O Pointer representation at each layer** in VOs] #Object representation 과 instance representation간의 logit matrix를 계산 (output dim: layer x batch_size x N x K)\n",
        "        #-------------------------------------------------------------------------------\n",
        "        \n",
        "\n",
        "        # [Action Classification]\n",
        "        outputs_action = self.action_embed(interaction_hs)\n",
        "        # --------------------------------------------------\n",
        "        hoi_detection_time = time.time() - start_time\n",
        "        hoi_recognition_time = max(hoi_detection_time - object_detection_time, 0)\n",
        "        # -------------------------------------------------------------------\n",
        "\n",
        "        # [Target Classification]\n",
        "        if self.return_obj_class:\n",
        "            detr_logits = outputs_class[-1, ..., self._valid_obj_ids]\n",
        "            o_indices = [output_oidx.max(-1)[-1] for output_oidx in outputs_oidx]\n",
        "            obj_logit_stack = [torch.stack([detr_logits[batch_, o_idx, :] for batch_, o_idx in enumerate(o_indice)], 0) for o_indice in o_indices]\n",
        "            outputs_obj_class = obj_logit_stack\n",
        "\n",
        "        out = {\n",
        "            \"pred_logits\": outputs_class[-1],\n",
        "            \"pred_boxes\": outputs_coord[-1],\n",
        "            \"pred_hidx\": outputs_hidx[-1],\n",
        "            \"pred_oidx\": outputs_oidx[-1],\n",
        "            \"pred_actions\": outputs_action[-1],\n",
        "            \"hoi_recognition_time\": hoi_recognition_time,\n",
        "        }\n",
        "\n",
        "        if self.return_obj_class: out[\"pred_obj_logits\"] = outputs_obj_class[-1]\n",
        "\n",
        "        if self.hoi_aux_loss: # auxiliary loss\n",
        "            out['hoi_aux_outputs'] = \\\n",
        "                self._set_aux_loss_with_tgt(outputs_class, outputs_coord, outputs_hidx, outputs_oidx, outputs_action, outputs_obj_class) \\\n",
        "                if self.return_obj_class else \\\n",
        "                self._set_aux_loss(outputs_class, outputs_coord, outputs_hidx, outputs_oidx, outputs_action)\n",
        "\n",
        "        return out\n",
        "\n",
        "def build_model(args):\n",
        "    device = torch.device(args.device)\n",
        "\n",
        "    backbone = build_backbone(args)\n",
        "\n",
        "    transformer = build_transformer(args)\n",
        "\n",
        "    model = DETR(\n",
        "        backbone,\n",
        "        transformer,\n",
        "        num_classes=args.num_classes,\n",
        "        num_queries=args.num_queries,\n",
        "        aux_loss=args.aux_loss,\n",
        "    )\n",
        "\n",
        "    matcher = build_matcher(args)\n",
        "    weight_dict = {'loss_ce': 1, 'loss_bbox': args.bbox_loss_coef}\n",
        "    weight_dict['loss_giou'] = args.giou_loss_coef\n",
        "\n",
        "    # TODO this is a hack\n",
        "    if args.aux_loss:\n",
        "        aux_weight_dict = {}\n",
        "        for i in range(args.dec_layers - 1):\n",
        "            aux_weight_dict.update({k + f'_{i}': v for k, v in weight_dict.items()})\n",
        "        weight_dict.update(aux_weight_dict)\n",
        "\n",
        "    losses = ['labels', 'boxes', 'cardinality'] if args.frozen_weights is None else []\n",
        "    if args.HOIDet:\n",
        "        hoi_matcher = build_hoi_matcher(args)\n",
        "        hoi_losses = []\n",
        "        hoi_losses.append('pair_labels')\n",
        "        hoi_losses.append('pair_actions')\n",
        "        if args.dataset_file == 'hico-det': hoi_losses.append('pair_targets')\n",
        "        \n",
        "        hoi_weight_dict={}\n",
        "        hoi_weight_dict['loss_hidx'] = args.hoi_idx_loss_coef\n",
        "        hoi_weight_dict['loss_oidx'] = args.hoi_idx_loss_coef\n",
        "        hoi_weight_dict['loss_act'] = args.hoi_act_loss_coef\n",
        "        if args.dataset_file == 'hico-det': hoi_weight_dict['loss_tgt'] = args.hoi_tgt_loss_coef\n",
        "        if args.hoi_aux_loss:\n",
        "            hoi_aux_weight_dict = {}\n",
        "            for i in range(args.hoi_dec_layers):\n",
        "                hoi_aux_weight_dict.update({k + f'_{i}': v for k, v in hoi_weight_dict.items()})\n",
        "            hoi_weight_dict.update(hoi_aux_weight_dict)\n",
        "\n",
        "        criterion = SetCriterion(args.num_classes, matcher=matcher, weight_dict=hoi_weight_dict,\n",
        "                                 eos_coef=args.eos_coef, losses=losses, num_actions=args.num_actions,\n",
        "                                 HOI_losses=hoi_losses, HOI_matcher=hoi_matcher, args=args)\n",
        "\n",
        "        interaction_transformer = build_hoi_transformer(args) # if (args.share_enc and args.pretrained_dec) else None\n",
        "\n",
        "        kwargs = {}\n",
        "        if args.dataset_file == 'hico-det': kwargs['return_obj_class'] = args.valid_obj_ids\n",
        "        model = HOTR(\n",
        "            detr=model,\n",
        "            num_hoi_queries=args.num_hoi_queries,\n",
        "            num_actions=args.num_actions,\n",
        "            interaction_transformer=interaction_transformer,\n",
        "            freeze_detr=(args.frozen_weights is not None),\n",
        "            share_enc=args.share_enc,\n",
        "            pretrained_dec=args.pretrained_dec,\n",
        "            temperature=args.temperature,\n",
        "            hoi_aux_loss=args.hoi_aux_loss,\n",
        "            **kwargs # only return verb class for HICO-DET dataset\n",
        "        )\n",
        "        postprocessors = {'hoi': PostProcess(args.HOIDet)}\n",
        "    else:\n",
        "        criterion = SetCriterion(args.num_classes, matcher=matcher, weight_dict=weight_dict,\n",
        "                                 eos_coef=args.eos_coef, losses=losses)\n",
        "        postprocessors = {'bbox': PostProcess(args.HOIDet)}\n",
        "    criterion.to(device)\n",
        "\n",
        "    return model, criterion, postprocessors"
      ],
      "metadata": {
        "id": "WHD0BS9GQq-R"
      },
      "execution_count": null,
      "outputs": []
    },
    {
      "cell_type": "markdown",
      "source": [
        "#### HO Pointer code solution\n"
      ],
      "metadata": {
        "id": "rtVD8lrB1Qp8"
      }
    },
    {
      "cell_type": "markdown",
      "source": [
        "\n",
        "        VHs = F.normalize(FFN_H(Z), dim=-1) \n",
        "        VOs = F.normalize(FFN_O(Z), dim=-1)\n",
        "        outputs_hidx = [torch.bmm(VH, Mu.transpose(1,2))/self.tau for VH in VHs]  \n",
        "        outputs_oidx = [torch.bmm(VO, Mu.transpose(1,2))/self.tau for VO in VOs]"
      ],
      "metadata": {
        "id": "HE_oD64320bd"
      }
    },
    {
      "cell_type": "markdown",
      "source": [
        "## Visualization Code"
      ],
      "metadata": {
        "id": "HuWfrMlx8CC7"
      }
    },
    {
      "cell_type": "code",
      "source": [
        "from __future__ import absolute_import\n",
        "from __future__ import division\n",
        "from __future__ import print_function\n",
        "\n",
        "import numpy as np\n",
        "import cv2\n",
        "\n",
        "\n",
        "vcoco_action_string = {2: 'hold', 3: 'stand', 4: 'sit', 5: 'ride', 6: 'walk',\\\n",
        "                       7: 'look', 8: 'hit_inst', 9: 'hit_obj', 10: 'eat_obj', \\\n",
        "                       11: 'eat_inst', 12: 'jump', 13: 'lay', 14: 'talk', 15: \\\n",
        "                       'carry', 16: 'throw', 17: 'catch', 18: 'cut_inst', 19:'cut_obj', \\\n",
        "                       20: 'run', 21: 'work_on_comp', 22: 'ski', 23: 'surf', 24: 'skateboard', \\\n",
        "                       25: 'smile', 26: 'drink', 27: 'kick', 28: 'point', 29: 'read', 30: 'snowboard'}\n",
        "def draw_box_on_img(box, img,color=None):\n",
        "\n",
        "    vis_img = img.copy()\n",
        "    box = [int(x) for x in box]\n",
        "    cv2.rectangle(vis_img, (box[0], box[1]), (box[2], box[3]), color, 2)\n",
        "    draw_point=[int((box[0]+box[2])*1.0/2),int((box[1]+box[3])*1.0/2)]\n",
        "    \n",
        "    return vis_img,color\n",
        "\n",
        "\n",
        "def draw_line_on_img_vcoco(box,line, img, class_index,color):\n",
        "    \n",
        "    vis_img = img.copy()\n",
        "    font=cv2.FONT_HERSHEY_SIMPLEX\n",
        "    x=int(box[0])+2\n",
        "    y=int(box[1])+2\n",
        "    f=int(box[1])+2\n",
        "    for i in range(len(class_index)):\n",
        "     \n",
        "        font_scale=1\n",
        "        font_thickness=2\n",
        "    \n",
        "        text_size, _ = cv2.getTextSize(vcoco_action_string[class_index[i]] , font, font_scale, font_thickness)\n",
        "        vis_img=cv2.rectangle(vis_img,(x,y),(x+text_size[0],y+text_size[1]+5),color[1],-1)\n",
        "        \n",
        "\n",
        "        vis_img=cv2.putText(vis_img, vcoco_action_string[class_index[i]] ,(x,y + text_size[1] ),font,font_scale,[51,255,153],font_thickness)\n",
        "        y=y+text_size[1]+5\n",
        "   \n",
        "    return vis_img,y\n",
        "\n",
        "\n",
        "def draw_img_vcoco(img, output_i, top_k,threshold,color):\n",
        "    list_action = []\n",
        "    for action in output_i['hoi_prediction']:\n",
        "        subject_id = action['subject_id']\n",
        "        object_id = action['object_id']\n",
        "        category_id = action['category_id']\n",
        "        score = action['score']\n",
        "        single_out = [subject_id,object_id,category_id,score]\n",
        "        list_action.append(single_out)\n",
        "    list_action = sorted(list_action, key=lambda x:x[-1], reverse=True)\n",
        "    action_dict = []\n",
        "    action_cate = []\n",
        "    action_color=[]\n",
        "    subj_box=[]\n",
        "    sb={}\n",
        "    sbj=[]\n",
        "    for action in list_action[:top_k]:\n",
        "\n",
        "        subject_id,object_id,category_id,score = action\n",
        "        if score<threshold:\n",
        "            break\n",
        "        subject_obj = output_i['predictions'][subject_id]\n",
        "        subject_box = subject_obj['bbox']\n",
        "        object_obj = output_i['predictions'][object_id]\n",
        "        object_box = object_obj['bbox']\n",
        "\n",
        "        point_1 = [int((subject_box[0]+subject_box[2])*1.0/2),int((subject_box[1]+subject_box[3])*1.0/2)]\n",
        "        point_2 = [int((object_box[0]+object_box[2])*1.0/2),int((object_box[1]+object_box[3])*1.0/2)]\n",
        "  \n",
        "        if [point_1,point_2] not in action_dict:\n",
        "            \n",
        "            img,color_hum = draw_box_on_img(subject_box, img, color[subject_obj['category_id']]['color'])\n",
        "            \n",
        "            img,color_obj = draw_box_on_img(object_box, img, color[object_obj['category_id']]['color'])\n",
        "            \n",
        "            action_dict.append([point_1,point_2])\n",
        "            action_color.append([color_hum,color_obj])\n",
        "            subj_box.append([int(subject_box[0]),int(subject_box[1])])    \n",
        "           \n",
        "        action_cate.append([])\n",
        "        action_cate[action_dict.index([point_1,point_2])].append(category_id)\n",
        "\n",
        "    for i,(action_item,clr) in enumerate(zip(action_dict,action_color)):\n",
        "        \n",
        "        img,offset = draw_line_on_img_vcoco(subj_box[i],action_item,img,action_cate[action_dict.index(action_item)],clr)\n",
        "\n",
        "        for p in range(i+1,len(subj_box)):\n",
        "            if subj_box[p]==subj_box[i]:\n",
        "                subj_box[p][1]=offset\n",
        "    return img"
      ],
      "metadata": {
        "id": "lpMbgfPhRErU"
      },
      "execution_count": null,
      "outputs": []
    },
    {
      "cell_type": "code",
      "source": [
        "import argparse\n",
        "import datetime\n",
        "import json\n",
        "import random\n",
        "import time\n",
        "import multiprocessing\n",
        "from pathlib import Path\n",
        "import os\n",
        "import cv2\n",
        "import numpy as np\n",
        "import torch\n",
        "from torch.utils.data import DataLoader, DistributedSampler\n",
        "import hotr.data.datasets as datasets\n",
        "import hotr.util.misc as utils\n",
        "from hotr.engine.arg_parser import get_args_parser\n",
        "from hotr.data.datasets import build_dataset, get_coco_api_from_dataset\n",
        "from hotr.data.datasets.vcoco import make_hoi_transforms\n",
        "from PIL import Image\n",
        "from hotr.util.logger import print_params, print_args\n",
        "\n",
        "import copy\n",
        "from hotr.data.datasets import builtin_meta\n",
        "from PIL import Image\n",
        "import requests\n",
        "import mmcv\n",
        "from matplotlib import pyplot as plt\n",
        "import imageio\n",
        "\n",
        "def change_format(results,valid_ids):\n",
        "    \n",
        "    boxes,labels,pair_score =\\\n",
        "                    list(map(lambda x: x.cpu().numpy(), [results['boxes'], results['labels'], results['pair_score']]))\n",
        "    output_i={}\n",
        "    output_i['predictions']=[]\n",
        "    output_i['hoi_prediction']=[]\n",
        "\n",
        "    h_idx=np.where(labels==1)[0]\n",
        "    for box,label in zip(boxes,labels):\n",
        "        \n",
        "        output_i['predictions'].append({'bbox':box.tolist(),'category_id':label})\n",
        "    \n",
        "    for i,verb in enumerate(pair_score):\n",
        "        if i in [1,4,10,23,26,5,18]:\n",
        "            continue\n",
        "        for j,hum in enumerate(h_idx):\n",
        "            for k in range(len(boxes)):\n",
        "                if verb[j][k]>0:\n",
        "                    output_i['hoi_prediction'].append({'subject_id':hum,'object_id':k,'category_id':i+2,'score':verb[j][k]})\n",
        "            \n",
        "    return output_i\n",
        "def vis(args,id=294):\n",
        "\n",
        "    if args.frozen_weights is not None:\n",
        "        print(\"Freeze weights for detector\")\n",
        "\n",
        "    device = torch.device(args.device)\n",
        "\n",
        "    # fix the seed for reproducibility\n",
        "    seed = args.seed + utils.get_rank()\n",
        "    torch.manual_seed(seed)\n",
        "    np.random.seed(seed)\n",
        "    random.seed(seed)\n",
        "\n",
        "    # Data Setup\n",
        "    dataset_train = build_dataset(image_set='train', args=args)\n",
        "    args.num_classes = dataset_train.num_category()\n",
        "    args.num_actions = dataset_train.num_action()\n",
        "    args.action_names = dataset_train.get_actions()\n",
        "    if args.share_enc: args.hoi_enc_layers = args.enc_layers\n",
        "    if args.pretrained_dec: args.hoi_dec_layers = args.dec_layers\n",
        "    if args.dataset_file == 'vcoco':\n",
        "        # Save V-COCO dataset statistics\n",
        "        args.valid_ids = np.array(dataset_train.get_object_label_idx()).nonzero()[0]\n",
        "        args.invalid_ids = np.argwhere(np.array(dataset_train.get_object_label_idx()) == 0).squeeze(1)\n",
        "        args.human_actions = dataset_train.get_human_action()\n",
        "        args.object_actions = dataset_train.get_object_action()\n",
        "        args.num_human_act = dataset_train.num_human_act()\n",
        "    elif args.dataset_file == 'hico-det':\n",
        "        args.valid_obj_ids = dataset_train.get_valid_obj_ids()\n",
        "    print_args(args)\n",
        "\n",
        "    args.HOIDet=True\n",
        "    args.eval=True\n",
        "    args.pretrained_dec=True\n",
        "    args.share_enc=True\n",
        "    if args.dataset_file=='hico-det':\n",
        "        args.valid_ids=args.valid_obj_ids\n",
        " \n",
        "    # Model Setup\n",
        "    model, criterion, postprocessors = build_model(args)\n",
        "    model.to(device)\n",
        "\n",
        "    model_without_ddp = model\n",
        "\n",
        "    n_parameters = print_params(model)\n",
        "\n",
        "    param_dicts = [\n",
        "        {\"params\": [p for n, p in model_without_ddp.named_parameters() if \"backbone\" not in n and p.requires_grad]},\n",
        "        {\n",
        "            \"params\": [p for n, p in model_without_ddp.named_parameters() if \"backbone\" in n and p.requires_grad],\n",
        "            \"lr\": args.lr_backbone,\n",
        "        },\n",
        "    ]\n",
        "\n",
        "    output_dir = Path(args.output_dir)\n",
        "    \n",
        "    checkpoint = torch.load(args.resume, map_location='cpu')\n",
        "    #수정\n",
        "    module_name=list(checkpoint['model'].keys())\n",
        "    model_without_ddp.load_state_dict(checkpoint['model'], strict=False)\n",
        "    \n",
        "    if not args.video_vis:\n",
        "        url='http://images.cocodataset.org/val2014/COCO_val2014_{}.jpg'.format(str(id).zfill(12))\n",
        "        req = requests.get(url, stream=True, timeout=1, verify=False).raw\n",
        "        img = Image.open(req).convert('RGB')\n",
        "\n",
        "        w,h=img.size\n",
        "        orig_size = torch.as_tensor([int(h), int(w)]).unsqueeze(0).to(device)\n",
        "\n",
        "        transform=make_hoi_transforms('val')\n",
        "        sample=img.copy()\n",
        "        sample,_=transform(sample,None)\n",
        "        sample = sample.unsqueeze(0).to(device)\n",
        "        with torch.no_grad():\n",
        "            model.eval()\n",
        "            out=model(sample)\n",
        "            results = postprocessors['hoi'](out, orig_size,dataset=args.dataset_file)\n",
        "            output_i=change_format(results[0],args.valid_ids)\n",
        "\n",
        "        out_dir = './vis'\n",
        "        image_nparray = np.asarray(bytearray(requests.get(url).content), dtype=np.uint8)\n",
        "        image = cv2.imdecode(image_nparray, cv2.IMREAD_COLOR)\n",
        "\n",
        "        vis_img=draw_img_vcoco(image,output_i,top_k=args.topk,threshold=args.threshold,color=builtin_meta.COCO_CATEGORIES)        \n",
        "        plt.imshow(cv2.cvtColor(vis_img,cv2.COLOR_BGR2RGB))\n",
        "    else:\n",
        "        frames=[]\n",
        "        video_file='tri_cut'\n",
        "    \n",
        "        video_reader = mmcv.VideoReader('./vid/'+video_file+'.mp4')\n",
        "        fourcc = cv2.VideoWriter_fourcc(*'mp4v')\n",
        "        video_writer = cv2.VideoWriter(\n",
        "                './vid/'+video_file+'_vis.mp4', fourcc, video_reader.fps,\n",
        "                (video_reader.width, video_reader.height))\n",
        "\n",
        "        orig_size = torch.as_tensor([int(video_reader.height), int(video_reader.width)]).unsqueeze(0).to(device)\n",
        "        transform=make_hoi_transforms('val')\n",
        "\n",
        "        for frame in mmcv.track_iter_progress(video_reader):\n",
        "\n",
        "            frame=mmcv.imread(frame)\n",
        "            frame=frame.copy()\n",
        "  \n",
        "            frame=Image.fromarray(frame,'RGB')\n",
        "\n",
        "            sample,_=transform(frame,None)\n",
        "            sample=sample.unsqueeze(0).to(device)\n",
        "\n",
        "            with torch.no_grad():\n",
        "                model.eval()\n",
        "                out=model(sample)\n",
        "                results = postprocessors['hoi'](out, orig_size,dataset='vcoco')\n",
        "                output_i=change_format(results[0],args.valid_ids)\n",
        "\n",
        "            vis_img=draw_img_vcoco(np.array(frame),output_i,top_k=args.topk,threshold=args.threshold,color=builtin_meta.COCO_CATEGORIES)\n",
        "            frames.append(vis_img)\n",
        "            video_writer.write(vis_img)\n",
        "\n",
        "        with imageio.get_writer(\"smiling.gif\", mode=\"I\") as writer:\n",
        "            for idx, frame in enumerate(frames):\n",
        "                # print(\"Adding frame to GIF file: \", idx + 1)\n",
        "                writer.append_data(frame)\n",
        "        if video_writer:\n",
        "            video_writer.release()\n",
        "        cv2.destroyAllWindows()\n",
        " \n",
        "\n",
        "def visualization(id, video_vis=False, dataset_file='vcoco', data_path='v-coco', threshold=0.4, topk=10):\n",
        "\n",
        "    parser = argparse.ArgumentParser('DETR training and evaluation script', parents=[get_args_parser()])\n",
        "    checkpoint_dir= './checkpoints/vcoco/vcoco_q16.pth' if dataset_file=='vcoco' else './checkpoints/hico-det/hico_ft_q16.pth'\n",
        "    with open('./v-coco/data/vcoco_test.ids') as file:\n",
        "      test_idxs = [line.rstrip('\\n') for line in file]\n",
        "    if id is not None:\n",
        "      id = test_idxs[id]\n",
        "    args = parser.parse_args(args=['--dataset_file',dataset_file,'--data_path',data_path,'--resume',checkpoint_dir,'--num_hoi_queries' ,'16','--temperature' ,'0.05' ])\n",
        "    args.video_vis=video_vis\n",
        "    args.threshold=threshold\n",
        "    args.topk=topk\n",
        "    if args.output_dir:\n",
        "        Path(args.output_dir).mkdir(parents=True, exist_ok=True)\n",
        "    vis(args,id)\n"
      ],
      "metadata": {
        "id": "dtw3kv4ERF6a"
      },
      "execution_count": null,
      "outputs": []
    },
    {
      "cell_type": "markdown",
      "source": [
        "## Visualize Image & Video\n",
        "- `video_vis` : visualize video if True else image\n",
        "- `threshold`: HOI triplet score threshold\n",
        "- `topk`: visualize topk predictions where the scores are above threshold"
      ],
      "metadata": {
        "id": "hkIfX78H8YHt"
      }
    },
    {
      "cell_type": "code",
      "source": [
        "visualization(id=309,dataset_file='vcoco',data_path='v-coco')  "
      ],
      "metadata": {
        "colab": {
          "base_uri": "https://localhost:8080/",
          "height": 725,
          "referenced_widgets": [
            "f376d727f12b4176a1ff195b1a9f8a5f",
            "6120b5148ba543e4a66c85c191e436b2",
            "0183bb196b514b93983f21f6676d624f",
            "7497b62fc58548bd9e186ba7ace8a28f",
            "51d2bc68e42a42d090cebdffa3efd488",
            "1faf5a2c71cc49e1bfc3c411dff8bbde",
            "8f4924c6b46e48c2b01899eb0ffbc968",
            "1432061a36f94ee38c56668ce249924a",
            "47df04503dc24059b292e1751ffa8cd2",
            "f67ca8c6a2b74063b233fd802b899281",
            "d9a648b8b941476e8345ab620ee58bc1"
          ]
        },
        "id": "DoeovbCtRHRc",
        "outputId": "92c0455a-d1e0-4a48-b8ce-458dffceaa1a"
      },
      "execution_count": null,
      "outputs": [
        {
          "output_type": "stream",
          "name": "stdout",
          "text": [
            "loading annotations into memory...\n",
            "Done (t=2.27s)\n",
            "creating index...\n",
            "index created!\n",
            "\n",
            "[Logger] DETR Arguments:\n",
            "\tlr: 0.0001\n",
            "\tlr_backbone: 1e-05\n",
            "\tlr_drop: 80\n",
            "\tfrozen_weights: None\n",
            "\tbackbone: resnet50\n",
            "\tdilation: False\n",
            "\tposition_embedding: sine\n",
            "\tenc_layers: 6\n",
            "\tdec_layers: 6\n",
            "\tnum_queries: 100\n",
            "\tdataset_file: vcoco\n"
          ]
        },
        {
          "output_type": "stream",
          "name": "stderr",
          "text": [
            "Downloading: \"https://download.pytorch.org/models/resnet50-0676ba61.pth\" to /root/.cache/torch/hub/checkpoints/resnet50-0676ba61.pth\n"
          ]
        },
        {
          "output_type": "display_data",
          "data": {
            "application/vnd.jupyter.widget-view+json": {
              "model_id": "f376d727f12b4176a1ff195b1a9f8a5f",
              "version_minor": 0,
              "version_major": 2
            },
            "text/plain": [
              "  0%|          | 0.00/97.8M [00:00<?, ?B/s]"
            ]
          },
          "metadata": {}
        },
        {
          "output_type": "stream",
          "name": "stdout",
          "text": [
            "\n",
            "[Logger] Number of params:  51181950\n"
          ]
        },
        {
          "output_type": "stream",
          "name": "stderr",
          "text": [
            "/content/drive/MyDrive/HOTR_-/hotr/models/position_encoding.py:41: UserWarning: __floordiv__ is deprecated, and its behavior will change in a future version of pytorch. It currently rounds toward 0 (like the 'trunc' function NOT 'floor'). This results in incorrect rounding for negative values. To keep the current behavior, use torch.div(a, b, rounding_mode='trunc'), or for actual floor division, use torch.div(a, b, rounding_mode='floor').\n",
            "  dim_t = self.temperature ** (2 * (dim_t // 2) / self.num_pos_feats)\n"
          ]
        },
        {
          "output_type": "display_data",
          "data": {
            "image/png": "[encoded data removed]",
            "text/plain": [
              "<Figure size 432x288 with 1 Axes>"
            ]
          },
          "metadata": {
            "needs_background": "light"
          }
        }
      ]
    },
    {
      "cell_type": "code",
      "source": [
        "visualization(id=162,dataset_file='vcoco',data_path='v-coco') "
      ],
      "metadata": {
        "colab": {
          "base_uri": "https://localhost:8080/",
          "height": 675
        },
        "id": "KY1WPEw-QitB",
        "outputId": "d3c94d8b-6c79-4c73-feb9-76f0f88fcfa6"
      },
      "execution_count": null,
      "outputs": [
        {
          "output_type": "stream",
          "name": "stdout",
          "text": [
            "loading annotations into memory...\n",
            "Done (t=1.95s)\n",
            "creating index...\n",
            "index created!\n",
            "\n",
            "[Logger] DETR Arguments:\n",
            "\tlr: 0.0001\n",
            "\tlr_backbone: 1e-05\n",
            "\tlr_drop: 80\n",
            "\tfrozen_weights: None\n",
            "\tbackbone: resnet50\n",
            "\tdilation: False\n",
            "\tposition_embedding: sine\n",
            "\tenc_layers: 6\n",
            "\tdec_layers: 6\n",
            "\tnum_queries: 100\n",
            "\tdataset_file: vcoco\n",
            "\n",
            "[Logger] Number of params:  51181950\n"
          ]
        },
        {
          "output_type": "stream",
          "name": "stderr",
          "text": [
            "/content/drive/MyDrive/HOTR_-/hotr/models/position_encoding.py:41: UserWarning: __floordiv__ is deprecated, and its behavior will change in a future version of pytorch. It currently rounds toward 0 (like the 'trunc' function NOT 'floor'). This results in incorrect rounding for negative values. To keep the current behavior, use torch.div(a, b, rounding_mode='trunc'), or for actual floor division, use torch.div(a, b, rounding_mode='floor').\n",
            "  dim_t = self.temperature ** (2 * (dim_t // 2) / self.num_pos_feats)\n"
          ]
        },
        {
          "output_type": "display_data",
          "data": {
            "image/png": "[encoded data removed]",
            "text/plain": [
              "<Figure size 432x288 with 1 Axes>"
            ]
          },
          "metadata": {
            "needs_background": "light"
          }
        }
      ]
    },
    {
      "cell_type": "code",
      "source": [
        "if not os.path.exists('./vid/'):\n",
        "    os.makedirs('./vid/')\n",
        "!wget -nc \"https://drive.google.com/uc?id=1JoO08dgvQ-tCP-OxDbTDUH1e83MkkF3Z\" -O ./vid/tri_cut.mp4"
      ],
      "metadata": {
        "id": "iPlANMA6WVGA",
        "colab": {
          "base_uri": "https://localhost:8080/"
        },
        "outputId": "afbdb0de-d604-401e-84dd-28db1d957916"
      },
      "execution_count": null,
      "outputs": [
        {
          "output_type": "stream",
          "name": "stdout",
          "text": [
            "--2022-02-22 16:28:00--  https://drive.google.com/uc?id=1JoO08dgvQ-tCP-OxDbTDUH1e83MkkF3Z\n",
            "Resolving drive.google.com (drive.google.com)... 142.250.157.101, 142.250.157.102, 142.250.157.100, ...\n",
            "Connecting to drive.google.com (drive.google.com)|142.250.157.101|:443... connected.\n",
            "HTTP request sent, awaiting response... 303 See Other\n",
            "Location: https://doc-10-as-docs.googleusercontent.com/docs/securesc/ha0ro937gcuc7l7deffksulhg5h7mbp1/nip5stoocoobv90hurll1rmgnsuoouov/1645547250000/04510992398135305556/*/1JoO08dgvQ-tCP-OxDbTDUH1e83MkkF3Z [following]\n",
            "Warning: wildcards not supported in HTTP.\n",
            "--2022-02-22 16:28:01--  https://doc-10-as-docs.googleusercontent.com/docs/securesc/ha0ro937gcuc7l7deffksulhg5h7mbp1/nip5stoocoobv90hurll1rmgnsuoouov/1645547250000/04510992398135305556/*/1JoO08dgvQ-tCP-OxDbTDUH1e83MkkF3Z\n",
            "Resolving doc-10-as-docs.googleusercontent.com (doc-10-as-docs.googleusercontent.com)... 142.250.157.132, 2404:6800:4008:c13::84\n",
            "Connecting to doc-10-as-docs.googleusercontent.com (doc-10-as-docs.googleusercontent.com)|142.250.157.132|:443... connected.\n",
            "HTTP request sent, awaiting response... 200 OK\n",
            "Length: 867443 (847K) [video/mp4]\n",
            "Saving to: ‘./vid/tri_cut.mp4’\n",
            "\n",
            "./vid/tri_cut.mp4   100%[===================>] 847.11K  --.-KB/s    in 0.08s   \n",
            "\n",
            "2022-02-22 16:28:01 (10.6 MB/s) - ‘./vid/tri_cut.mp4’ saved [867443/867443]\n",
            "\n"
          ]
        }
      ]
    },
    {
      "cell_type": "code",
      "source": [
        "visualization(id=None,video_vis=True,dataset_file='vcoco',data_path='v-coco')"
      ],
      "metadata": {
        "id": "cqm_qz4JT-0c",
        "colab": {
          "base_uri": "https://localhost:8080/"
        },
        "outputId": "0788bd5f-5d06-4ca0-ef99-b1359796d226"
      },
      "execution_count": null,
      "outputs": [
        {
          "output_type": "stream",
          "name": "stdout",
          "text": [
            "loading annotations into memory...\n",
            "Done (t=2.13s)\n",
            "creating index...\n",
            "index created!\n",
            "\n",
            "[Logger] DETR Arguments:\n",
            "\tlr: 0.0001\n",
            "\tlr_backbone: 1e-05\n",
            "\tlr_drop: 80\n",
            "\tfrozen_weights: None\n",
            "\tbackbone: resnet50\n",
            "\tdilation: False\n",
            "\tposition_embedding: sine\n",
            "\tenc_layers: 6\n",
            "\tdec_layers: 6\n",
            "\tnum_queries: 100\n",
            "\tdataset_file: vcoco\n",
            "\n",
            "[Logger] Number of params:  51181950\n",
            "[                                                  ] 0/58, elapsed: 0s, ETA:"
          ]
        },
        {
          "output_type": "stream",
          "name": "stderr",
          "text": [
            "/content/drive/MyDrive/HOTR_-/hotr/models/position_encoding.py:41: UserWarning: __floordiv__ is deprecated, and its behavior will change in a future version of pytorch. It currently rounds toward 0 (like the 'trunc' function NOT 'floor'). This results in incorrect rounding for negative values. To keep the current behavior, use torch.div(a, b, rounding_mode='trunc'), or for actual floor division, use torch.div(a, b, rounding_mode='floor').\n",
            "  dim_t = self.temperature ** (2 * (dim_t // 2) / self.num_pos_feats)\n"
          ]
        },
        {
          "output_type": "stream",
          "name": "stdout",
          "text": [
            "[>>>>>>>>>>>>>>>>>>>>>>>>>>>>>>>>] 58/58, 1.6 task/s, elapsed: 37s, ETA:     0s\n"
          ]
        }
      ]
    },
    {
      "cell_type": "markdown",
      "source": [
        "### GIF format"
      ],
      "metadata": {
        "id": "v1IcXwOjuduU"
      }
    },
    {
      "cell_type": "code",
      "source": [
        "import imageio\n",
        "file_name='tri_cut_vis.mp4'\n",
        "fps=(mmcv.VideoReader('./vid/'+file_name)).fps\n",
        "cap = cv2.VideoCapture('./vid/'+file_name)\n",
        "image_lst = []\n",
        " \n",
        "while True:\n",
        "    ret, frame = cap.read()\n",
        "    if frame is None: \n",
        "      break\n",
        "    frame_rgb = cv2.cvtColor(frame, cv2.COLOR_BGR2RGB)\n",
        "    image_lst.append(frame_rgb)\n",
        "    \n",
        "    # cv2.imshow('a', frame)\n",
        "    key = cv2.waitKey(1)\n",
        "    if key == ord('q'):\n",
        "        break\n",
        "        \n",
        "cap.release()\n",
        "cv2.destroyAllWindows()\n",
        " \n",
        "# Convert to gif using the imageio.mimsave method\n",
        "imageio.mimsave('./vid/tri_cut_vis.gif', image_lst, fps=fps)\n"
      ],
      "metadata": {
        "id": "dw7ihsk6W18s"
      },
      "execution_count": null,
      "outputs": []
    },
    {
      "cell_type": "code",
      "source": [
        "from IPython import display\n",
        "gifPath = Path('./vid/tri_cut_vis.gif') # please paste the whole path from Step 2-6\n",
        "# Display GIF in Jupyter, CoLab, IPython\n",
        "with open(gifPath,'rb') as f:\n",
        "    display.Image(data=f.read(), format='png')"
      ],
      "metadata": {
        "id": "PXT2E_FBdAaT"
      },
      "execution_count": null,
      "outputs": []
    }
  ],
  "metadata": {
    "colab": {
      "name": "02_Human_Object_Interaction_Detection_tutorial.ipynb",
      "provenance": [],
      "collapsed_sections": [
        "rtVD8lrB1Qp8"
      ],
      "include_colab_link": true
    },
    "kernelspec": {
      "display_name": "Python 3",
      "name": "python3"
    },
    "language_info": {
      "name": "python"
    },
    "accelerator": "GPU",
    "widgets": {
      "application/vnd.jupyter.widget-state+json": {
        "f376d727f12b4176a1ff195b1a9f8a5f": {
          "model_module": "@jupyter-widgets/controls",
          "model_name": "HBoxModel",
          "model_module_version": "1.5.0",
          "state": {
            "_view_name": "HBoxView",
            "_dom_classes": [],
            "_model_name": "HBoxModel",
            "_view_module": "@jupyter-widgets/controls",
            "_model_module_version": "1.5.0",
            "_view_count": null,
            "_view_module_version": "1.5.0",
            "box_style": "",
            "layout": "IPY_MODEL_6120b5148ba543e4a66c85c191e436b2",
            "_model_module": "@jupyter-widgets/controls",
            "children": [
              "IPY_MODEL_0183bb196b514b93983f21f6676d624f",
              "IPY_MODEL_7497b62fc58548bd9e186ba7ace8a28f",
              "IPY_MODEL_51d2bc68e42a42d090cebdffa3efd488"
            ]
          }
        },
        "6120b5148ba543e4a66c85c191e436b2": {
          "model_module": "@jupyter-widgets/base",
          "model_name": "LayoutModel",
          "model_module_version": "1.2.0",
          "state": {
            "_view_name": "LayoutView",
            "grid_template_rows": null,
            "right": null,
            "justify_content": null,
            "_view_module": "@jupyter-widgets/base",
            "overflow": null,
            "_model_module_version": "1.2.0",
            "_view_count": null,
            "flex_flow": null,
            "width": null,
            "min_width": null,
            "border": null,
            "align_items": null,
            "bottom": null,
            "_model_module": "@jupyter-widgets/base",
            "top": null,
            "grid_column": null,
            "overflow_y": null,
            "overflow_x": null,
            "grid_auto_flow": null,
            "grid_area": null,
            "grid_template_columns": null,
            "flex": null,
            "_model_name": "LayoutModel",
            "justify_items": null,
            "grid_row": null,
            "max_height": null,
            "align_content": null,
            "visibility": null,
            "align_self": null,
            "height": null,
            "min_height": null,
            "padding": null,
            "grid_auto_rows": null,
            "grid_gap": null,
            "max_width": null,
            "order": null,
            "_view_module_version": "1.2.0",
            "grid_template_areas": null,
            "object_position": null,
            "object_fit": null,
            "grid_auto_columns": null,
            "margin": null,
            "display": null,
            "left": null
          }
        },
        "0183bb196b514b93983f21f6676d624f": {
          "model_module": "@jupyter-widgets/controls",
          "model_name": "HTMLModel",
          "model_module_version": "1.5.0",
          "state": {
            "_view_name": "HTMLView",
            "style": "IPY_MODEL_1faf5a2c71cc49e1bfc3c411dff8bbde",
            "_dom_classes": [],
            "description": "",
            "_model_name": "HTMLModel",
            "placeholder": "​",
            "_view_module": "@jupyter-widgets/controls",
            "_model_module_version": "1.5.0",
            "value": "100%",
            "_view_count": null,
            "_view_module_version": "1.5.0",
            "description_tooltip": null,
            "_model_module": "@jupyter-widgets/controls",
            "layout": "IPY_MODEL_8f4924c6b46e48c2b01899eb0ffbc968"
          }
        },
        "7497b62fc58548bd9e186ba7ace8a28f": {
          "model_module": "@jupyter-widgets/controls",
          "model_name": "FloatProgressModel",
          "model_module_version": "1.5.0",
          "state": {
            "_view_name": "ProgressView",
            "style": "IPY_MODEL_1432061a36f94ee38c56668ce249924a",
            "_dom_classes": [],
            "description": "",
            "_model_name": "FloatProgressModel",
            "bar_style": "success",
            "max": 102530333,
            "_view_module": "@jupyter-widgets/controls",
            "_model_module_version": "1.5.0",
            "value": 102530333,
            "_view_count": null,
            "_view_module_version": "1.5.0",
            "orientation": "horizontal",
            "min": 0,
            "description_tooltip": null,
            "_model_module": "@jupyter-widgets/controls",
            "layout": "IPY_MODEL_47df04503dc24059b292e1751ffa8cd2"
          }
        },
        "51d2bc68e42a42d090cebdffa3efd488": {
          "model_module": "@jupyter-widgets/controls",
          "model_name": "HTMLModel",
          "model_module_version": "1.5.0",
          "state": {
            "_view_name": "HTMLView",
            "style": "IPY_MODEL_f67ca8c6a2b74063b233fd802b899281",
            "_dom_classes": [],
            "description": "",
            "_model_name": "HTMLModel",
            "placeholder": "​",
            "_view_module": "@jupyter-widgets/controls",
            "_model_module_version": "1.5.0",
            "value": " 97.8M/97.8M [00:00&lt;00:00, 144MB/s]",
            "_view_count": null,
            "_view_module_version": "1.5.0",
            "description_tooltip": null,
            "_model_module": "@jupyter-widgets/controls",
            "layout": "IPY_MODEL_d9a648b8b941476e8345ab620ee58bc1"
          }
        },
        "1faf5a2c71cc49e1bfc3c411dff8bbde": {
          "model_module": "@jupyter-widgets/controls",
          "model_name": "DescriptionStyleModel",
          "model_module_version": "1.5.0",
          "state": {
            "_view_name": "StyleView",
            "_model_name": "DescriptionStyleModel",
            "description_width": "",
            "_view_module": "@jupyter-widgets/base",
            "_model_module_version": "1.5.0",
            "_view_count": null,
            "_view_module_version": "1.2.0",
            "_model_module": "@jupyter-widgets/controls"
          }
        },
        "8f4924c6b46e48c2b01899eb0ffbc968": {
          "model_module": "@jupyter-widgets/base",
          "model_name": "LayoutModel",
          "model_module_version": "1.2.0",
          "state": {
            "_view_name": "LayoutView",
            "grid_template_rows": null,
            "right": null,
            "justify_content": null,
            "_view_module": "@jupyter-widgets/base",
            "overflow": null,
            "_model_module_version": "1.2.0",
            "_view_count": null,
            "flex_flow": null,
            "width": null,
            "min_width": null,
            "border": null,
            "align_items": null,
            "bottom": null,
            "_model_module": "@jupyter-widgets/base",
            "top": null,
            "grid_column": null,
            "overflow_y": null,
            "overflow_x": null,
            "grid_auto_flow": null,
            "grid_area": null,
            "grid_template_columns": null,
            "flex": null,
            "_model_name": "LayoutModel",
            "justify_items": null,
            "grid_row": null,
            "max_height": null,
            "align_content": null,
            "visibility": null,
            "align_self": null,
            "height": null,
            "min_height": null,
            "padding": null,
            "grid_auto_rows": null,
            "grid_gap": null,
            "max_width": null,
            "order": null,
            "_view_module_version": "1.2.0",
            "grid_template_areas": null,
            "object_position": null,
            "object_fit": null,
            "grid_auto_columns": null,
            "margin": null,
            "display": null,
            "left": null
          }
        },
        "1432061a36f94ee38c56668ce249924a": {
          "model_module": "@jupyter-widgets/controls",
          "model_name": "ProgressStyleModel",
          "model_module_version": "1.5.0",
          "state": {
            "_view_name": "StyleView",
            "_model_name": "ProgressStyleModel",
            "description_width": "",
            "_view_module": "@jupyter-widgets/base",
            "_model_module_version": "1.5.0",
            "_view_count": null,
            "_view_module_version": "1.2.0",
            "bar_color": null,
            "_model_module": "@jupyter-widgets/controls"
          }
        },
        "47df04503dc24059b292e1751ffa8cd2": {
          "model_module": "@jupyter-widgets/base",
          "model_name": "LayoutModel",
          "model_module_version": "1.2.0",
          "state": {
            "_view_name": "LayoutView",
            "grid_template_rows": null,
            "right": null,
            "justify_content": null,
            "_view_module": "@jupyter-widgets/base",
            "overflow": null,
            "_model_module_version": "1.2.0",
            "_view_count": null,
            "flex_flow": null,
            "width": null,
            "min_width": null,
            "border": null,
            "align_items": null,
            "bottom": null,
            "_model_module": "@jupyter-widgets/base",
            "top": null,
            "grid_column": null,
            "overflow_y": null,
            "overflow_x": null,
            "grid_auto_flow": null,
            "grid_area": null,
            "grid_template_columns": null,
            "flex": null,
            "_model_name": "LayoutModel",
            "justify_items": null,
            "grid_row": null,
            "max_height": null,
            "align_content": null,
            "visibility": null,
            "align_self": null,
            "height": null,
            "min_height": null,
            "padding": null,
            "grid_auto_rows": null,
            "grid_gap": null,
            "max_width": null,
            "order": null,
            "_view_module_version": "1.2.0",
            "grid_template_areas": null,
            "object_position": null,
            "object_fit": null,
            "grid_auto_columns": null,
            "margin": null,
            "display": null,
            "left": null
          }
        },
        "f67ca8c6a2b74063b233fd802b899281": {
          "model_module": "@jupyter-widgets/controls",
          "model_name": "DescriptionStyleModel",
          "model_module_version": "1.5.0",
          "state": {
            "_view_name": "StyleView",
            "_model_name": "DescriptionStyleModel",
            "description_width": "",
            "_view_module": "@jupyter-widgets/base",
            "_model_module_version": "1.5.0",
            "_view_count": null,
            "_view_module_version": "1.2.0",
            "_model_module": "@jupyter-widgets/controls"
          }
        },
        "d9a648b8b941476e8345ab620ee58bc1": {
          "model_module": "@jupyter-widgets/base",
          "model_name": "LayoutModel",
          "model_module_version": "1.2.0",
          "state": {
            "_view_name": "LayoutView",
            "grid_template_rows": null,
            "right": null,
            "justify_content": null,
            "_view_module": "@jupyter-widgets/base",
            "overflow": null,
            "_model_module_version": "1.2.0",
            "_view_count": null,
            "flex_flow": null,
            "width": null,
            "min_width": null,
            "border": null,
            "align_items": null,
            "bottom": null,
            "_model_module": "@jupyter-widgets/base",
            "top": null,
            "grid_column": null,
            "overflow_y": null,
            "overflow_x": null,
            "grid_auto_flow": null,
            "grid_area": null,
            "grid_template_columns": null,
            "flex": null,
            "_model_name": "LayoutModel",
            "justify_items": null,
            "grid_row": null,
            "max_height": null,
            "align_content": null,
            "visibility": null,
            "align_self": null,
            "height": null,
            "min_height": null,
            "padding": null,
            "grid_auto_rows": null,
            "grid_gap": null,
            "max_width": null,
            "order": null,
            "_view_module_version": "1.2.0",
            "grid_template_areas": null,
            "object_position": null,
            "object_fit": null,
            "grid_auto_columns": null,
            "margin": null,
            "display": null,
            "left": null
          }
        }
      }
    }
  },
  "nbformat": 4,
  "nbformat_minor": 0
}